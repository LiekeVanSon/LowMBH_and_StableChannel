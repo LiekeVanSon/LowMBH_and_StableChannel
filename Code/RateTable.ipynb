{
 "cells": [
  {
   "cell_type": "markdown",
   "metadata": {},
   "source": [
    "# Get rate table\n",
    "\n",
    "Simple script to open all the rate info and save this into a table"
   ]
  },
  {
   "cell_type": "code",
   "execution_count": 1,
   "metadata": {},
   "outputs": [],
   "source": [
    "######################################\n",
    "## Imports and definitions\n",
    "import numpy as np\n",
    "import h5py as h5\n",
    "\n",
    "from astropy.table import Table, Column\n",
    "import astropy.units as u\n"
   ]
  },
  {
   "cell_type": "code",
   "execution_count": 2,
   "metadata": {},
   "outputs": [],
   "source": [
    "############################\n",
    "def get_bools(table):\n",
    "    # Make a custom DCO mask\n",
    "    pessimistic_CE = table['Optimistic_CE'] == False\n",
    "    immediateRLOF  = table['Immediate_RLOF>CE'] == False\n",
    "#     notCHE         = np.logical_and(DCO['CH_on_MS(1)'] ==False, DCO['CH_on_MS(2)'] ==False) #Remove CHE systems\n",
    "    notCHE         = np.logical_and(table['Stellar_Type@ZAMS(1)'] != 16, table['Stellar_Type@ZAMS(2)'] != 16) #Remove CHE systems\n",
    "\n",
    "    BBH_bool  = np.logical_and(table['Stellar_Type(1)'] == 14, table['Stellar_Type(2)'] == 14)\n",
    "    NSNS_bool = np.logical_and(table['Stellar_Type(1)'] == 13, table['Stellar_Type(2)'] == 13)\n",
    "    BHNS_bool = np.logical_or(np.logical_and(table['Stellar_Type(1)'] == 13, table['Stellar_Type(2)'] == 14),\n",
    "                              np.logical_and(table['Stellar_Type(1)'] == 14, table['Stellar_Type(2)'] == 13))\n",
    "    return pessimistic_CE, immediateRLOF, notCHE, BBH_bool, NSNS_bool, BHNS_bool"
   ]
  },
  {
   "cell_type": "code",
   "execution_count": 11,
   "metadata": {},
   "outputs": [],
   "source": [
    "\n",
    "def print_rates(sim_set = 'faccTHERMALzetaHG6.5RemMassFRYER2012SNDELAYED'):\n",
    "    print('\\nSim:', sim_set)\n",
    "    loc      = '/n/holystore01/LABS/hernquist_lab/Users/lvanson/CompasOutput/v02.26.03/N1e7Grid_BBH_BHNS_optimized/EssentialData/'\n",
    "    ################################################\n",
    "    ## Read the data\n",
    "    File        = h5.File(loc + sim_set +'/COMPAS_Output_wWeights.h5' ,'r')\n",
    "    # print(File.keys())\n",
    "\n",
    "    rate_key      =  'Rates_mu00.025_muz-0.05_alpha-1.77_sigma01.125_sigmaz0.05' + '_a0.02_b1.48_c4.45_d5.9' + '_zBinned'     # High resolution data has the full key name (also specifying SFRD(z))\n",
    "    if rate_key not in File.keys():\n",
    "        rate_key  =  'Rates_mu00.025_muz-0.05_alpha-1.77_sigma01.125_sigmaz0.05' + '_zBinned' # Old formatting\n",
    "\n",
    "\n",
    "    DCO = Table()\n",
    "\n",
    "    rateDCO_mask              = File[rate_key]['DCOmask'][()] # Mask from DCO to merging BBH \n",
    "    redshifts                 = File[rate_key]['redshifts'][()]\n",
    "    intrinsic_rate_density    = File[rate_key]['merger_rate'][()]\n",
    "\n",
    "    DCO['Optimistic_CE']         = File['BSE_Double_Compact_Objects']['Optimistic_CE'][()] \n",
    "    DCO['Immediate_RLOF>CE']     = File['BSE_Double_Compact_Objects']['Immediate_RLOF>CE'][()] \n",
    "    DCO['CE_Event_Counter']      = File['BSE_Double_Compact_Objects']['CE_Event_Counter'][()] \n",
    "    DCO['Stellar_Type(1)']       = File['BSE_Double_Compact_Objects']['Stellar_Type(1)'][()]\n",
    "    DCO['Stellar_Type(2)']       = File['BSE_Double_Compact_Objects']['Stellar_Type(2)'][()]\n",
    "    DCO['Stellar_Type@ZAMS(1)']  = File['BSE_Double_Compact_Objects']['Stellar_Type@ZAMS(1)'][()]\n",
    "    DCO['Stellar_Type@ZAMS(2)']  = File['BSE_Double_Compact_Objects']['Stellar_Type@ZAMS(2)'][()]\n",
    "\n",
    "    File.close()\n",
    "\n",
    "\n",
    "    ################################################\n",
    "    # Apply the relevant bools\n",
    "    merging_BBH      = DCO[rateDCO_mask] # select only merging dco (NSNS, BBH, BHNS)\n",
    "\n",
    "    R_pessimistic_CE, R_immediateRLOF, R_notCHE, R_BBH_bool, R_NSNS_bool, R_BHNS_bool = get_bools(DCO[rateDCO_mask])\n",
    "    general_ratebool =  R_pessimistic_CE * R_immediateRLOF * R_notCHE\n",
    "\n",
    "\n",
    "    rate_bools = [R_BBH_bool, R_NSNS_bool, R_BHNS_bool, np.logical_or(R_BBH_bool, R_BHNS_bool)]\n",
    "    rate_names = ['BBH', 'NSNS', 'BHNS', 'BHNS_BBH']\n",
    "\n",
    "    for i in range(len(rate_names)):\n",
    "        rate_mask        = general_ratebool * rate_bools[i]\n",
    "\n",
    "        # Now really select the rate you want\n",
    "        merging_sys    = merging_BBH[rate_mask]#\n",
    "\n",
    "        ################################################\n",
    "        # Select redshift= 0.2\n",
    "        i_redshift         = np.where(redshifts == 0.2)[0][0]\n",
    "        #print('i_redshift', i_redshift, '==> z =', redshifts[i_redshift])\n",
    "        weights            = intrinsic_rate_density[rate_mask,:]\n",
    "        weights            = weights[:, i_redshift]\n",
    "\n",
    "\n",
    "        ################################################\n",
    "        # Select only stable mass transfer\n",
    "        print(rate_names[i], 'Rate = ', np.round(np.sum(weights[merging_sys['CE_Event_Counter'] == 0]),2), ' Gpc-3 yr-1')\n",
    "\n"
   ]
  },
  {
   "cell_type": "code",
   "execution_count": 19,
   "metadata": {},
   "outputs": [
    {
     "name": "stdout",
     "output_type": "stream",
     "text": [
      "Sim: faccTHERMALzetaHG6.5RemMassFRYER2012SNDELAYED\n",
      "BBH Rate =  20.3  Gpc-3 yr-1\n",
      "NSNS Rate =  6.9  Gpc-3 yr-1\n",
      "BHNS Rate =  5.0  Gpc-3 yr-1\n",
      "BHNS_BBH Rate =  25.3  Gpc-3 yr-1\n"
     ]
    }
   ],
   "source": [
    "print_rates(sim_name = 'faccTHERMALzetaHG6.5RemMassFRYER2012SNDELAYED')\n",
    "\n"
   ]
  },
  {
   "cell_type": "markdown",
   "metadata": {},
   "source": [
    "# Beta variations"
   ]
  },
  {
   "cell_type": "code",
   "execution_count": 4,
   "metadata": {
    "scrolled": true
   },
   "outputs": [
    {
     "name": "stdout",
     "output_type": "stream",
     "text": [
      "\n",
      "Sim: faccFIXEDbeta0.0zetaHG6.0RemMassFRYER2012SNDELAYED\n",
      "BBH Rate =  10.1  Gpc-3 yr-1\n",
      "NSNS Rate =  0.9  Gpc-3 yr-1\n",
      "BHNS Rate =  3.9  Gpc-3 yr-1\n",
      "BHNS_BBH Rate =  14.0  Gpc-3 yr-1\n",
      "\n",
      "Sim: faccFIXEDbeta0.25zetaHG6.0RemMassFRYER2012SNDELAYED\n",
      "BBH Rate =  17.4  Gpc-3 yr-1\n",
      "NSNS Rate =  0.5  Gpc-3 yr-1\n",
      "BHNS Rate =  6.6  Gpc-3 yr-1\n",
      "BHNS_BBH Rate =  24.0  Gpc-3 yr-1\n",
      "\n",
      "Sim: faccFIXEDbeta0.5zetaHG6.0RemMassFRYER2012SNDELAYED\n",
      "BBH Rate =  25.3  Gpc-3 yr-1\n",
      "NSNS Rate =  0.0  Gpc-3 yr-1\n",
      "BHNS Rate =  6.5  Gpc-3 yr-1\n",
      "BHNS_BBH Rate =  31.7  Gpc-3 yr-1\n",
      "\n",
      "Sim: faccFIXEDbeta0.75zetaHG6.0RemMassFRYER2012SNDELAYED\n",
      "BBH Rate =  34.0  Gpc-3 yr-1\n",
      "NSNS Rate =  0.0  Gpc-3 yr-1\n",
      "BHNS Rate =  0.1  Gpc-3 yr-1\n",
      "BHNS_BBH Rate =  34.1  Gpc-3 yr-1\n",
      "\n",
      "Sim: faccFIXEDbeta1.0zetaHG6.0RemMassFRYER2012SNDELAYED\n",
      "BBH Rate =  39.6  Gpc-3 yr-1\n",
      "NSNS Rate =  0.0  Gpc-3 yr-1\n",
      "BHNS Rate =  0.0  Gpc-3 yr-1\n",
      "BHNS_BBH Rate =  39.6  Gpc-3 yr-1\n"
     ]
    }
   ],
   "source": [
    "beta_list     = [0.0, 0.25, 0.5, 0.75, 1.0]\n",
    "beta_simnames = ['faccFIXEDbeta%szetaHG6.0RemMassFRYER2012SNDELAYED'%(BETA) for BETA in beta_list]\n",
    "\n",
    "for simulation in beta_simnames:\n",
    "    print_rates(sim_set  = simulation)\n",
    "    "
   ]
  },
  {
   "cell_type": "markdown",
   "metadata": {},
   "source": [
    "# zeta variations"
   ]
  },
  {
   "cell_type": "code",
   "execution_count": 6,
   "metadata": {
    "scrolled": false
   },
   "outputs": [
    {
     "name": "stdout",
     "output_type": "stream",
     "text": [
      "\n",
      "Sim: faccFIXEDbeta0.5zetaHG3.5RemMassFRYER2012SNDELAYED\n",
      "BBH Rate =  0.9  Gpc-3 yr-1\n",
      "NSNS Rate =  0.0  Gpc-3 yr-1\n",
      "BHNS Rate =  0.0  Gpc-3 yr-1\n",
      "BHNS_BBH Rate =  0.9  Gpc-3 yr-1\n",
      "\n",
      "Sim: faccFIXEDbeta0.5zetaHG4.5RemMassFRYER2012SNDELAYED\n",
      "BBH Rate =  4.6  Gpc-3 yr-1\n",
      "NSNS Rate =  0.0  Gpc-3 yr-1\n",
      "BHNS Rate =  0.3  Gpc-3 yr-1\n",
      "BHNS_BBH Rate =  4.8  Gpc-3 yr-1\n",
      "\n",
      "Sim: faccFIXEDbeta0.5zetaHG5.5RemMassFRYER2012SNDELAYED\n",
      "BBH Rate =  16.7  Gpc-3 yr-1\n",
      "NSNS Rate =  0.0  Gpc-3 yr-1\n",
      "BHNS Rate =  3.3  Gpc-3 yr-1\n",
      "BHNS_BBH Rate =  19.9  Gpc-3 yr-1\n",
      "\n",
      "Sim: faccFIXEDbeta0.5zetaHG6.0RemMassFRYER2012SNDELAYED\n",
      "BBH Rate =  25.3  Gpc-3 yr-1\n",
      "NSNS Rate =  0.0  Gpc-3 yr-1\n",
      "BHNS Rate =  6.5  Gpc-3 yr-1\n",
      "BHNS_BBH Rate =  31.7  Gpc-3 yr-1\n",
      "\n",
      "Sim: faccFIXEDbeta0.5zetaHG6.5RemMassFRYER2012SNDELAYED\n",
      "BBH Rate =  35.9  Gpc-3 yr-1\n",
      "NSNS Rate =  0.0  Gpc-3 yr-1\n",
      "BHNS Rate =  13.0  Gpc-3 yr-1\n",
      "BHNS_BBH Rate =  48.9  Gpc-3 yr-1\n"
     ]
    }
   ],
   "source": [
    "zeta_list     = [3.5, 4.5, 5.5, 6.0, 6.5]\n",
    "zeta_simnames = ['faccFIXEDbeta0.5zetaHG%sRemMassFRYER2012SNDELAYED'%(ZETA) for ZETA in zeta_list]\n",
    "\n",
    "for simulation in zeta_simnames:\n",
    "    print_rates(sim_set  = simulation)\n",
    "\n"
   ]
  },
  {
   "cell_type": "markdown",
   "metadata": {},
   "source": [
    "# fcore variations"
   ]
  },
  {
   "cell_type": "code",
   "execution_count": 7,
   "metadata": {
    "scrolled": false
   },
   "outputs": [
    {
     "name": "stdout",
     "output_type": "stream",
     "text": [
      "\n",
      "Sim: faccFIXEDbeta0.5fcore0.8zetaHG6.0RemMassFRYER2012SNDELAYED\n",
      "BBH Rate =  3.5  Gpc-3 yr-1\n",
      "NSNS Rate =  0.0  Gpc-3 yr-1\n",
      "BHNS Rate =  0.7  Gpc-3 yr-1\n",
      "BHNS_BBH Rate =  4.2  Gpc-3 yr-1\n",
      "\n",
      "Sim: faccFIXEDbeta0.5fcore0.9zetaHG6.0RemMassFRYER2012SNDELAYED\n",
      "BBH Rate =  10.0  Gpc-3 yr-1\n",
      "NSNS Rate =  0.0  Gpc-3 yr-1\n",
      "BHNS Rate =  2.7  Gpc-3 yr-1\n",
      "BHNS_BBH Rate =  12.7  Gpc-3 yr-1\n",
      "\n",
      "Sim: faccFIXEDbeta0.5fcore1.0zetaHG6.0RemMassFRYER2012SNDELAYED\n",
      "BBH Rate =  25.8  Gpc-3 yr-1\n",
      "NSNS Rate =  0.0  Gpc-3 yr-1\n",
      "BHNS Rate =  7.4  Gpc-3 yr-1\n",
      "BHNS_BBH Rate =  33.2  Gpc-3 yr-1\n",
      "\n",
      "Sim: faccFIXEDbeta0.5fcore1.1zetaHG6.0RemMassFRYER2012SNDELAYED\n",
      "BBH Rate =  53.9  Gpc-3 yr-1\n",
      "NSNS Rate =  0.0  Gpc-3 yr-1\n",
      "BHNS Rate =  11.7  Gpc-3 yr-1\n",
      "BHNS_BBH Rate =  65.5  Gpc-3 yr-1\n",
      "\n",
      "Sim: faccFIXEDbeta0.5fcore1.2zetaHG6.0RemMassFRYER2012SNDELAYED\n",
      "BBH Rate =  87.3  Gpc-3 yr-1\n",
      "NSNS Rate =  0.0  Gpc-3 yr-1\n",
      "BHNS Rate =  15.5  Gpc-3 yr-1\n",
      "BHNS_BBH Rate =  102.8  Gpc-3 yr-1\n"
     ]
    }
   ],
   "source": [
    "xcore_list     =  [0.8,0.9,1.0,1.1,1.2] \n",
    "Fc1_list       = [xcore*0.34 for xcore in xcore_list]\n",
    "fcore_simnames =  ['faccFIXEDbeta0.5fcore%szetaHG6.0RemMassFRYER2012SNDELAYED'%(xcore) for xcore in xcore_list ]\n",
    "\n",
    "for simulation in fcore_simnames:\n",
    "    print_rates(sim_set  = simulation)\n"
   ]
  },
  {
   "cell_type": "markdown",
   "metadata": {},
   "source": [
    "# dMSN variations"
   ]
  },
  {
   "cell_type": "code",
   "execution_count": 9,
   "metadata": {
    "scrolled": false
   },
   "outputs": [
    {
     "name": "stdout",
     "output_type": "stream",
     "text": [
      "\n",
      "Sim: faccFIXEDbeta0.5zetaHG6.0RemMassFRYER2022fmix0.5SNDELAYED\n",
      "BBH Rate =  4.2  Gpc-3 yr-1\n",
      "NSNS Rate =  0.0  Gpc-3 yr-1\n",
      "BHNS Rate =  0.6  Gpc-3 yr-1\n",
      "BHNS_BBH Rate =  4.8  Gpc-3 yr-1\n",
      "\n",
      "Sim: faccFIXEDbeta0.5zetaHG6.0RemMassFRYER2022fmix0.7SNDELAYED\n",
      "BBH Rate =  4.1  Gpc-3 yr-1\n",
      "NSNS Rate =  0.0  Gpc-3 yr-1\n",
      "BHNS Rate =  0.6  Gpc-3 yr-1\n",
      "BHNS_BBH Rate =  4.7  Gpc-3 yr-1\n",
      "\n",
      "Sim: faccFIXEDbeta0.5zetaHG6.0RemMassFRYER2022fmix1.0SNDELAYED\n",
      "BBH Rate =  5.5  Gpc-3 yr-1\n",
      "NSNS Rate =  0.0  Gpc-3 yr-1\n",
      "BHNS Rate =  0.7  Gpc-3 yr-1\n",
      "BHNS_BBH Rate =  6.1  Gpc-3 yr-1\n",
      "\n",
      "Sim: faccFIXEDbeta0.5zetaHG6.0RemMassFRYER2022fmix1.4SNDELAYED\n",
      "BBH Rate =  6.8  Gpc-3 yr-1\n",
      "NSNS Rate =  0.0  Gpc-3 yr-1\n",
      "BHNS Rate =  0.9  Gpc-3 yr-1\n",
      "BHNS_BBH Rate =  7.8  Gpc-3 yr-1\n",
      "\n",
      "Sim: faccFIXEDbeta0.5zetaHG6.0RemMassFRYER2022fmix2.0SNDELAYED\n",
      "BBH Rate =  8.0  Gpc-3 yr-1\n",
      "NSNS Rate =  0.0  Gpc-3 yr-1\n",
      "BHNS Rate =  0.8  Gpc-3 yr-1\n",
      "BHNS_BBH Rate =  8.8  Gpc-3 yr-1\n",
      "\n",
      "Sim: faccFIXEDbeta0.5zetaHG6.0RemMassFRYER2022fmix2.8SNDELAYED\n",
      "BBH Rate =  9.2  Gpc-3 yr-1\n",
      "NSNS Rate =  0.0  Gpc-3 yr-1\n",
      "BHNS Rate =  0.9  Gpc-3 yr-1\n",
      "BHNS_BBH Rate =  10.1  Gpc-3 yr-1\n",
      "\n",
      "Sim: faccFIXEDbeta0.5zetaHG6.0RemMassFRYER2022fmix4.0SNDELAYED\n",
      "BBH Rate =  9.7  Gpc-3 yr-1\n",
      "NSNS Rate =  0.0  Gpc-3 yr-1\n",
      "BHNS Rate =  1.1  Gpc-3 yr-1\n",
      "BHNS_BBH Rate =  10.8  Gpc-3 yr-1\n"
     ]
    }
   ],
   "source": [
    "fmix_list     =  [0.5, 0.7, 1.0, 1.4, 2.0, 2.8, 4.0] \n",
    "dMsn_simnames =  ['faccFIXEDbeta0.5zetaHG6.0RemMassFRYER2022fmix%sSNDELAYED'%(fmix) for fmix in fmix_list]\n",
    "\n",
    "for simulation in dMsn_simnames:\n",
    "    print_rates(sim_set  = simulation)\n",
    "\n"
   ]
  },
  {
   "cell_type": "markdown",
   "metadata": {},
   "source": [
    "# Angular momentum (gamma) variations"
   ]
  },
  {
   "cell_type": "code",
   "execution_count": 12,
   "metadata": {
    "scrolled": false
   },
   "outputs": [
    {
     "name": "stdout",
     "output_type": "stream",
     "text": [
      "\n",
      "Sim: faccFIXEDbeta0.5gammaMIXTUREfcircum0.0zetaHG6.0RemMassFRYER2012SNDELAYED\n",
      "BBH Rate =  25.99  Gpc-3 yr-1\n",
      "NSNS Rate =  0.0  Gpc-3 yr-1\n",
      "BHNS Rate =  7.11  Gpc-3 yr-1\n",
      "BHNS_BBH Rate =  33.09  Gpc-3 yr-1\n",
      "\n",
      "Sim: faccFIXEDbeta0.5gammaMIXTUREfcircum0.25zetaHG6.0RemMassFRYER2012SNDELAYED\n",
      "BBH Rate =  118.38  Gpc-3 yr-1\n",
      "NSNS Rate =  0.0  Gpc-3 yr-1\n",
      "BHNS Rate =  4.49  Gpc-3 yr-1\n",
      "BHNS_BBH Rate =  122.87  Gpc-3 yr-1\n",
      "\n",
      "Sim: faccFIXEDbeta0.5gammaMIXTUREfcircum0.5zetaHG6.0RemMassFRYER2012SNDELAYED\n",
      "BBH Rate =  12.0  Gpc-3 yr-1\n",
      "NSNS Rate =  0.0  Gpc-3 yr-1\n",
      "BHNS Rate =  1.09  Gpc-3 yr-1\n",
      "BHNS_BBH Rate =  13.09  Gpc-3 yr-1\n",
      "\n",
      "Sim: faccFIXEDbeta0.5gammaMIXTUREfcircum0.75zetaHG6.0RemMassFRYER2012SNDELAYED\n",
      "BBH Rate =  0.12  Gpc-3 yr-1\n",
      "NSNS Rate =  0.0  Gpc-3 yr-1\n",
      "BHNS Rate =  0.41  Gpc-3 yr-1\n",
      "BHNS_BBH Rate =  0.53  Gpc-3 yr-1\n",
      "\n",
      "Sim: faccFIXEDbeta0.5gammaMIXTUREfcircum1.0zetaHG6.0RemMassFRYER2012SNDELAYED\n",
      "BBH Rate =  0.02  Gpc-3 yr-1\n",
      "NSNS Rate =  0.0  Gpc-3 yr-1\n",
      "BHNS Rate =  0.27  Gpc-3 yr-1\n",
      "BHNS_BBH Rate =  0.3  Gpc-3 yr-1\n"
     ]
    }
   ],
   "source": [
    "# f_cir 0 means NOTHING in circumbinary disk, everything in isotropic reemission\n",
    "# f_cir 1 means EVERYTHING in circumbinary disk\n",
    "fcircum_list = [0.0, 0.25,0.5, 0.75,1.0]\n",
    "gamma_simnames = ['faccFIXEDbeta0.5gammaMIXTUREfcircum%szetaHG6.0RemMassFRYER2012SNDELAYED'%(fcirc) for fcirc in fcircum_list]\n",
    "\n",
    "for simulation in gamma_simnames:\n",
    "    print_rates(sim_set  = simulation)\n",
    "\n"
   ]
  },
  {
   "cell_type": "code",
   "execution_count": null,
   "metadata": {},
   "outputs": [],
   "source": []
  },
  {
   "cell_type": "code",
   "execution_count": null,
   "metadata": {},
   "outputs": [],
   "source": []
  }
 ],
 "metadata": {
  "kernelspec": {
   "display_name": "Python 3",
   "language": "python",
   "name": "python3"
  },
  "language_info": {
   "codemirror_mode": {
    "name": "ipython",
    "version": 3
   },
   "file_extension": ".py",
   "mimetype": "text/x-python",
   "name": "python",
   "nbconvert_exporter": "python",
   "pygments_lexer": "ipython3",
   "version": "3.6.10"
  }
 },
 "nbformat": 4,
 "nbformat_minor": 4
}
